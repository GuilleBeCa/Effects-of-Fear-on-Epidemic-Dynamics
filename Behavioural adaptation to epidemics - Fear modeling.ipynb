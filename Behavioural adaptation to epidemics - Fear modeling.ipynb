{
 "cells": [
  {
   "cell_type": "markdown",
   "id": "8659079d",
   "metadata": {},
   "source": [
    "Guillermo Benito Calviño - 2072106\n",
    "\n",
    "Sofia Pacheco Garcia - 2070771\n",
    "\n",
    "Filippo Pra Floriani - 2089902"
   ]
  },
  {
   "cell_type": "markdown",
   "id": "deb5c40e",
   "metadata": {},
   "source": [
    "# Life Data Epidemiology - Project\n",
    "### Behavioural adaptation to epidemics - Fear modeling"
   ]
  },
  {
   "cell_type": "code",
   "execution_count": null,
   "id": "22c9e9a8-2328-433c-ac99-529cec9d00ed",
   "metadata": {},
   "outputs": [],
   "source": [
    "import numpy as np\n",
    "import matplotlib.pyplot as plt\n",
    "import networkx as nx\n",
    "import math"
   ]
  },
  {
   "cell_type": "markdown",
   "id": "90f592b5",
   "metadata": {},
   "source": [
    "Define activation function for fear threshold:"
   ]
  },
  {
   "cell_type": "code",
   "execution_count": null,
   "id": "02922572-d015-4c2e-8759-d1e5c82af07f",
   "metadata": {},
   "outputs": [],
   "source": [
    "def activation_function(x,a=0.5,b=2):\n",
    "     return x\n",
    "     #return 1/(1+(x*(1-a)/(a*(1-x)))**(-b))"
   ]
  },
  {
   "cell_type": "code",
   "execution_count": null,
   "id": "d882ce06-b9ae-4929-bb12-21c7ccfdf8a1",
   "metadata": {},
   "outputs": [],
   "source": [
    "array = np.arange(0.01,1,0.01)\n",
    "array_act_func = np.zeros(len(array))\n",
    "for i in range(len(array)):\n",
    "    array_act_func[i]=activation_function(array[i])\n",
    "        \n",
    "plt.plot(array,array_act_func,label='Activation Function')\n",
    "#plt.plot(array,array, label='linear')\n",
    "plt.legend()\n",
    "plt.show()"
   ]
  },
  {
   "cell_type": "markdown",
   "id": "94903277",
   "metadata": {},
   "source": [
    "Parameters:"
   ]
  },
  {
   "cell_type": "code",
   "execution_count": null,
   "id": "06678784-f86f-48ff-a9f4-f967bf9f685c",
   "metadata": {},
   "outputs": [],
   "source": [
    "beta_pred = 0.5\n",
    "mu_pred = 1/6\n",
    "fd_min_pred = mu_pred/10"
   ]
  },
  {
   "cell_type": "markdown",
   "id": "1acd6d80-8a45-479f-a949-aabf2670b663",
   "metadata": {},
   "source": [
    "Define **Network class**:"
   ]
  },
  {
   "cell_type": "markdown",
   "id": "190ca600-e154-49af-b928-96084919dc58",
   "metadata": {},
   "source": [
    "### CLASS"
   ]
  },
  {
   "cell_type": "code",
   "execution_count": null,
   "id": "4919dfe3-c7ee-49a8-bad6-e1e373df0f11",
   "metadata": {},
   "outputs": [],
   "source": [
    "class Network():\n",
    "    def __init__(self,N=1_000,p=0.01,m=5,initial_infecteds=10,fear_max=1., fear_max_death=2., T_max=1_000, graph_type='ERG'):\n",
    "        \n",
    "        if graph_type == 'ERG':\n",
    "            G = nx.erdos_renyi_graph(N, p)\n",
    "        if graph_type == 'BAG':\n",
    "            G = nx.barabasi_albert_graph(N, m)\n",
    "        ii = initial_infecteds\n",
    "        index = np.arange(N)\n",
    "    \n",
    "        #Including status (S,I,R) attributes\n",
    "        label=np.array([0]*(N-ii)+[1]*ii) \n",
    "        np.random.shuffle(label)\n",
    "    \n",
    "        dic_status = {index[i] : label[i] for i in range(N)}\n",
    "        nx.set_node_attributes(G, dic_status,'status')\n",
    "    \n",
    "        #Including fear attribute\n",
    "        #random fear (uniform [0,fear_max])\n",
    "        fear = np.random.random(N)*fear_max\n",
    "        dic_fear = {index[i] : fear[i] for i in range(N)}\n",
    "        nx.set_node_attributes(G, dic_fear,'fear')\n",
    "\n",
    "        # Get nodes degree\n",
    "        all_degrees = dict(G.degree())\n",
    "\n",
    "        degree_list = []\n",
    "        for node, degree in all_degrees.items():\n",
    "            degree_list.append(degree)\n",
    "\n",
    "        degree_mean = np.mean(degree_list)\n",
    "        degree_mean_2 = np.mean(np.array(degree_list)**2)\n",
    "            \n",
    "\n",
    "        self.G = G\n",
    "        self.ii = initial_infecteds\n",
    "        self.fear_max = fear_max\n",
    "        self.fear_max_death = fear_max_death\n",
    "        self.N = N\n",
    "        self.p = p\n",
    "        self.T_max = T_max\n",
    "        self.m = m\n",
    "        self.net_type = graph_type\n",
    "        self.degree_mean = degree_mean\n",
    "        self.degree_mean_2 = degree_mean_2\n",
    "\n",
    "        \n",
    "    def evolve_SIR_D1(self, fear_type, beta=beta_pred, mu=mu_pred, fd_min = fd_min_pred, early_stop=False, stop=400):\n",
    "        \n",
    "        if fear_type == 'no_fear':\n",
    "            fear_max = 0\n",
    "        else:\n",
    "            fear_max =self.fear_max\n",
    "        \n",
    "        #Define network\n",
    "        T_max = self.T_max\n",
    "        G_initial = self.G\n",
    "        N = self.N\n",
    "        Edges = G_initial.number_of_edges()\n",
    "        index = np.arange(N)\n",
    "        \n",
    "        #Initializing\n",
    "        S = np.zeros(T_max)\n",
    "        I = np.zeros(T_max)\n",
    "        R = np.zeros(T_max)\n",
    "        incidence = np.zeros(T_max)\n",
    "        D = np.zeros(T_max)\n",
    "        incidence_death = np.zeros(T_max)\n",
    "        \n",
    "        S[0] = N-self.ii\n",
    "        S[1] = N-self.ii\n",
    "        I[0] = self.ii\n",
    "        I[1] = self.ii\n",
    "        R[0] = 0\n",
    "        \n",
    "        t=1\n",
    "    \n",
    "        G = G_initial.copy()\n",
    "        #Time evolution\n",
    "        if early_stop == True:\n",
    "            stop = stop\n",
    "        elif early_stop == False:\n",
    "            stop = T_max\n",
    "            \n",
    "        while I[t] != 0 and t != stop:\n",
    "            G_step = G.copy()\n",
    "            incidence_d = 0\n",
    "            incidence_t = np.array([])\n",
    "            for i in range(N):\n",
    "                \n",
    "                #Check if susceptibles break edges            \n",
    "                if G_step.nodes[i]['status'] == 0: #only susceptibles can break their edges depending on their fear\n",
    "                    index_neighbors = np.array(list(nx.all_neighbors(G_step, i)))\n",
    "                    random_fear = np.random.random(1)\n",
    "                    \n",
    "                    if fear_type == 'random_unif' :\n",
    "                        if random_fear < G_step.nodes[i]['fear']:\n",
    "                            for k in range(len(index_neighbors)):\n",
    "                                if G_step.nodes[index_neighbors[k]]['status'] == 1: #break all edges with infected nodes\n",
    "                                    G.remove_edge(i,index_neighbors[k]) #no rewiring\n",
    "    \n",
    "                    if fear_type == 'neighbor':\n",
    "                        infected_neighbors = [x for x in list(nx.all_neighbors(G_step, i)) if G_step.nodes[x]['status']==1]\n",
    "                        if random_fear < fear_max*activation_function(len(infected_neighbors)/(len(index_neighbors)+0.001)+0.001):\n",
    "                            for k in range(len(index_neighbors)):\n",
    "                                if G_step.nodes[index_neighbors[k]]['status'] == 1: #break all edges with infected nodes\n",
    "                                    G.remove_edge(i,index_neighbors[k]) #no rewiring\n",
    "                                    \n",
    "                    if fear_type == 'global':\n",
    "                        infected_total = I[t-1]\n",
    "                        if random_fear < fear_max*activation_function(infected_total/N+0.001):\n",
    "                            for k in range(len(index_neighbors)):\n",
    "                                if G_step.nodes[index_neighbors[k]]['status'] == 1: #break all edges with infected nodes\n",
    "                                    G.remove_edge(i,index_neighbors[k]) #no rewiring\n",
    "    \n",
    "                        \n",
    "                #Infection ---> Recovery or Death\n",
    "                if G_step.nodes[i]['status'] == 1:\n",
    "                    \n",
    "                    index_neighbors = np.array(list(nx.all_neighbors(G_step, i)))\n",
    "                    randoms_infected = np.random.random(len(index_neighbors))\n",
    "                    mask_infected = randoms_infected < beta\n",
    "                    infected_neighbors = index_neighbors[mask_infected==True]\n",
    "                    for j in infected_neighbors:\n",
    "                        if  G_step.nodes[j]['status'] == 0:  #infect neighbors\n",
    "                            G.nodes[j]['status'] = 1\n",
    "                            incidence_t = np.append(incidence_t,j)\n",
    "                    \n",
    "                    #Recovery\n",
    "                    random_mu = np.random.random(1)\n",
    "                    if random_mu < mu:\n",
    "                        G.nodes[i]['status'] = 2\n",
    "                          \n",
    "                    #Death\n",
    "                    random_death = np.random.random(1)\n",
    "                    if ((random_death > mu) & (random_death < fd_min + mu)):\n",
    "                        G.nodes[i]['status'] = 3\n",
    "                        #G.remove_node(i)\n",
    "                        incidence_d = incidence_d + 1\n",
    "                \n",
    "            \n",
    "            attributes_status = list(nx.get_node_attributes(G,'status').values())\n",
    "    \n",
    "            incidence[t] = len(set(incidence_t))\n",
    "            incidence_death[t] = incidence_d\n",
    "            \n",
    "            t = t+1\n",
    "            S[t] = attributes_status.count(0)\n",
    "            I[t] = attributes_status.count(1)\n",
    "            R[t] = attributes_status.count(2)\n",
    "            D[t] = attributes_status.count(3)\n",
    "    \n",
    "        S = S[:t]\n",
    "        I = I[:t]\n",
    "        R = R[:t]\n",
    "        D = D[:t]\n",
    "\n",
    "        incidence = incidence[:t]\n",
    "        incidence_death = incidence_death[:t]\n",
    "        time = np.arange(t)\n",
    "        cut = Edges-G.number_of_edges()\n",
    "\n",
    "        return(S,I,R, D, incidence, incidence_death, time, cut)\n",
    "        \n",
    "             \n",
    "       \n",
    "\n",
    "    def evolve_SIR_D2(self,fear_type, beta=beta_pred, mu=mu_pred, fd_min = fd_min_pred, early_stop = False, stop=400):\n",
    "\n",
    "        if fear_type == 'no_fear':\n",
    "            fear_max = 0\n",
    "        else:\n",
    "            fear_max =self.fear_max\n",
    "            fear_max_death = self.fear_max_death\n",
    "        \n",
    "        #Define network\n",
    "        T_max = self.T_max\n",
    "        G_initial = self.G\n",
    "        N = self.N\n",
    "        Edges = G_initial.number_of_edges()\n",
    "        index = np.arange(N)\n",
    "        \n",
    "        #Initializing\n",
    "        S = np.zeros(T_max)\n",
    "        I = np.zeros(T_max)\n",
    "        R = np.zeros(T_max)\n",
    "        D = np.zeros(T_max)\n",
    "        incidence = np.zeros(T_max)\n",
    "        incidence_death = np.zeros(T_max)\n",
    "                \n",
    "        S[0] = N-self.ii\n",
    "        S[1] = N-self.ii\n",
    "        I[0] = self.ii\n",
    "        I[1] = self.ii\n",
    "        R[0] = 0\n",
    "        D[0] = 0\n",
    "        \n",
    "        t=1\n",
    "    \n",
    "        G = G_initial.copy()\n",
    "        #Time evolution\n",
    "        if early_stop == True:\n",
    "            stop = stop\n",
    "        elif early_stop == False:\n",
    "            stop = T_max\n",
    "        \n",
    "        while I[t] != 0 and t != stop:\n",
    "            G_step = G.copy()\n",
    "            incidence_t = np.array([])\n",
    "            incidence_d = 0\n",
    "            for i in range(N):\n",
    "                \n",
    "                #Check if susceptibles break edges\n",
    "                if G_step.nodes[i]['status'] == 0: #only susceptibles can break their edges depending on their fear\n",
    "                    index_neighbors = np.array(list(nx.all_neighbors(G, i)))\n",
    "                    random_fear = np.random.random(1)\n",
    "\n",
    "                    if fear_type == 'random_unif' :\n",
    "                        if random_fear < G_step.nodes[i]['fear']:\n",
    "                            for k in range(len(index_neighbors)):\n",
    "                                if G_step.nodes[index_neighbors[k]]['status'] == 1: #break all edges with infected nodes\n",
    "                                    G.remove_edge(i,index_neighbors[k]) #no rewiring\n",
    "    \n",
    "                    if fear_type == 'neighbor':\n",
    "                        infected_neighbors = [y for y in list(nx.all_neighbors(G_step, i)) if G_step.nodes[y]['status']==1]\n",
    "                        death_neighbors = [y for y in list(nx.all_neighbors(G_step, i)) if G_step.nodes[y]['status']==4]\n",
    "                        if random_fear < (fear_max*activation_function(len(infected_neighbors)/(len(index_neighbors)+0.001)+0.001) + min(1,fear_max_death*activation_function(len(death_neighbors)/(len(index_neighbors)+0.001)+0.001))):\n",
    "                            for k in range(len(index_neighbors)):\n",
    "                                if G_step.nodes[index_neighbors[k]]['status'] == 1: #break all edges with infected nodes\n",
    "                                    G.remove_edge(i,index_neighbors[k]) #no rewiring\n",
    "                                    \n",
    "                    if fear_type == 'global':\n",
    "                        infected_total = I[t-1]\n",
    "                        death_total = D[t-1]\n",
    "                        if random_fear < (fear_max*activation_function(infected_total/N + 0.001) + min(1, fear_max_death*activation_function(death_total/N + 0.001))):\n",
    "                            for k in range(len(index_neighbors)):\n",
    "                                if G_step.nodes[index_neighbors[k]]['status'] == 1: #break all edges with infected nodes\n",
    "                                    G.remove_edge(i,index_neighbors[k]) #no rewiring                        \n",
    "                                    \n",
    "                                    \n",
    "                #Check if infectious break edges                    \n",
    "                if G_step.nodes[i]['status'] == 1: \n",
    "                    index_neighbors = np.array(list(nx.all_neighbors(G, i)))\n",
    "                    random_fear = np.random.random(1)\n",
    "\n",
    "                    if fear_type == 'random_unif' :\n",
    "                        if random_fear < G_step.nodes[i]['fear']:\n",
    "                            for k in range(len(index_neighbors)):   #break edges with all neighbors\n",
    "                                G.remove_edge(i,index_neighbors[k]) #no rewiring\n",
    "    \n",
    "                    if fear_type == 'neighbor':\n",
    "                        infected_neighbors = [y for y in list(nx.all_neighbors(G_step, i)) if G_step.nodes[y]['status']==1]\n",
    "                        death_neighbors = [y for y in list(nx.all_neighbors(G_step, i)) if G_step.nodes[y]['status']==4]\n",
    "                        if random_fear < (fear_max*activation_function(len(infected_neighbors)/(len(index_neighbors)+0.001)+0.001) + min(1,fear_max_death*activation_function(len(death_neighbors)/(len(index_neighbors)+0.001)+0.001))):\n",
    "                            for k in range(len(index_neighbors)):   #break edges with all neighbors\n",
    "                                G.remove_edge(i,index_neighbors[k]) #no rewiring\n",
    "                                    \n",
    "                    if fear_type == 'global':\n",
    "                        infected_total = I[t-1]\n",
    "                        death_total = D[t-1]\n",
    "                        if random_fear < (fear_max*activation_function(infected_total/N + 0.001) + min(1, fear_max_death*activation_function(death_total/N + 0.001))):\n",
    "                            for k in range(len(index_neighbors)):   #break edges with all neighbors\n",
    "                                G.remove_edge(i,index_neighbors[k]) #no rewiring\n",
    "                                \n",
    "    \n",
    "                        \n",
    "                #Infection ---> Recovery or Death\n",
    "                if G_step.nodes[i]['status'] == 1:\n",
    "                    index_neighbors = np.array(list(nx.all_neighbors(G_step, i)))\n",
    "                    randoms_infected = np.random.random(len(index_neighbors))\n",
    "                    mask_infected = randoms_infected < beta\n",
    "                    infected_neighbors = index_neighbors[mask_infected==True]\n",
    "                    for j in infected_neighbors:\n",
    "                        if  G_step.nodes[j]['status'] == 0:\n",
    "                            G.nodes[j]['status'] = 1    #infect neighbors\n",
    "                            incidence_t = np.append(incidence_t,j)\n",
    "                                           \n",
    "                    #Recovery\n",
    "                    random_mu = np.random.random(1)\n",
    "                    if random_mu < mu:\n",
    "                        G.nodes[i]['status'] = 2\n",
    "                          \n",
    "                    #Death\n",
    "                    random_death = np.random.random(1)\n",
    "                    if ((random_death > mu) & (random_death < fd_min + mu)):\n",
    "                        G.nodes[i]['status'] = 3\n",
    "                        #G.remove_node(i)\n",
    "                        incidence_d = incidence_d + 1\n",
    "                        \n",
    "                    \n",
    "            attributes_status = list(nx.get_node_attributes(G,'status').values())\n",
    "            \n",
    "            incidence[t] = len(set(incidence_t))\n",
    "            incidence_death[t] = incidence_d\n",
    "            t = t+1\n",
    "            S[t] = attributes_status.count(0)\n",
    "            I[t] = attributes_status.count(1)\n",
    "            R[t] = attributes_status.count(2)\n",
    "            D[t] = attributes_status.count(3)\n",
    "            \n",
    "    \n",
    "        S = S[:t]\n",
    "        I = I[:t]\n",
    "        R = R[:t]\n",
    "        D = D[:t]\n",
    "        incidence = incidence[:t]\n",
    "        incidence_death = incidence_death[:t]\n",
    "        time = np.arange(t)\n",
    "        cut = Edges-G.number_of_edges()\n",
    "        \n",
    "        return(S,I,R, D, incidence, incidence_death, time, cut)\n",
    "\n",
    "    \n",
    "\n",
    "    def plot_SIR_D(self, model, fear_type, beta=beta_pred, mu=mu_pred, fd_min = fd_min_pred, early_stop=False, stop=400):\n",
    "        T_max = self.T_max\n",
    "        if model=='SIR_D1':\n",
    "            S,I,R,D,incidence,incidence_death,time,cut = self.evolve_SIR_D1(fear_type, beta, mu, fd_min, early_stop, stop)\n",
    "            plt.figure(figsize = (6, 2.75))\n",
    "            plt.plot(time,S/self.N,label='s')\n",
    "            plt.plot(time,I/self.N,label='i')\n",
    "            plt.plot(time,R/self.N,label='r')\n",
    "            plt.plot(time,D/self.N,label='d')\n",
    "            plt.legend()\n",
    "            plt.xlabel('Time')\n",
    "            plt.ylabel('Density')\n",
    "            plt.title(f'SIRD 1, fear type = {fear_type}')\n",
    "            print(f'cut edges {cut}')\n",
    "        \n",
    "        if model=='SIR_D2':\n",
    "            S,I,R,D,incidence,incidence_death,time,cut = self.evolve_SIR_D2(fear_type, beta, mu, fd_min, early_stop, stop)\n",
    "            plt.figure(figsize = (6, 2.75))\n",
    "            plt.plot(time,S/self.N,label='s')\n",
    "            plt.plot(time,I/self.N,label='i')\n",
    "            plt.plot(time,R/self.N,label='r')\n",
    "            plt.plot(time,D/self.N,label='d')\n",
    "            plt.legend()\n",
    "            plt.xlabel('Time')\n",
    "            plt.ylabel('Density')\n",
    "            plt.title(f'SIRD 2, fear type = {fear_type}')\n",
    "            print(f'cut edges {cut}')\n",
    "\n",
    "    def plot_attack_rate_SIR_D(self, model, fear_type, mu=mu_pred, fd_min = fd_min_pred, num_simulations=30, num_avg=10, plot = True, early_stop=False, stop=400):\n",
    "        \n",
    "        G = self.G\n",
    "        N = self.N\n",
    "        net_type = self.net_type\n",
    "        \n",
    "        if net_type == 'ERG':\n",
    "            mean_k = self.degree_mean\n",
    "            mean_k_2 = self.degree_mean_2\n",
    "            beta_list = np.linspace(0, 8*mu/mean_k, num_simulations)\n",
    "            R0 = beta_list*mean_k/mu\n",
    "            \n",
    "        elif net_type == 'BAG':\n",
    "            mean_k = self.degree_mean\n",
    "            mean_k_2 = self.degree_mean_2\n",
    "            beta_list = np.linspace(0, 8*mu*mean_k/(mean_k_2 - mean_k), num_simulations)\n",
    "            R0 = beta_list*(mean_k_2 - mean_k)/(mean_k*mu)\n",
    "            \n",
    "            \n",
    "        T_max = self.T_max\n",
    "        Edges = self.G.number_of_edges()\n",
    "        attack_rate = np.zeros(num_simulations)\n",
    "        attack_rate_death = np.zeros(num_simulations)\n",
    "        cut_avg = 0\n",
    " \n",
    "        if model=='SIR_D1': \n",
    "            for i in range(num_simulations):\n",
    "                I_mean = 0\n",
    "                D_mean = 0\n",
    "                for j in range(num_avg):\n",
    "                    S,I,R,D,incidence,incidence_death,time,cut = self.evolve_SIR_D1(fear_type, beta = beta_list[i], mu = mu, fd_min = fd_min, early_stop=early_stop, stop=stop)\n",
    "                    I_mean = I_mean + np.sum(incidence/num_avg)\n",
    "                    D_mean = D_mean + np.sum(incidence_death/num_avg)\n",
    "                    cut_avg = cut_avg + cut/num_avg/num_simulations\n",
    "                attack_rate[i] = I_mean\n",
    "                attack_rate_death[i] = D_mean\n",
    "\n",
    "            if plot:\n",
    "                plt.plot(R0,attack_rate/self.N, label = 'Attack rate')\n",
    "                plt.plot(R0,attack_rate_death/self.N, label = 'Attack rate death')\n",
    "                plt.legend()\n",
    "                plt.xlabel('R0')\n",
    "                plt.ylabel('Total attack rate')\n",
    "                plt.title(f'SIRD 1, fear type = {fear_type}')\n",
    "                \n",
    "        if model=='SIR_D2':\n",
    "            for i in range(num_simulations):\n",
    "                I_mean = 0\n",
    "                D_mean = 0\n",
    "                for j in range(num_avg):\n",
    "                    S,I,R,D,incidence,incidence_death,time,cut = self.evolve_SIR_D2(fear_type, beta = beta_list[i], mu = mu, fd_min = fd_min, early_stop=early_stop, stop=stop)\n",
    "                    I_mean = I_mean + np.sum(incidence/num_avg)\n",
    "                    D_mean = D_mean + np.sum(incidence_death/num_avg)\n",
    "                    cut_avg = cut_avg + cut/num_avg/num_simulations\n",
    "                attack_rate[i] = I_mean\n",
    "                attack_rate_death[i] = D_mean\n",
    "\n",
    "            if plot:\n",
    "                plt.plot(R0,attack_rate/self.N, label = 'Attack rate')\n",
    "                plt.plot(R0,attack_rate_death/self.N, label = 'Attack rate death')\n",
    "                plt.legend()\n",
    "                plt.xlabel('R0')\n",
    "                plt.ylabel('Total attack rate')\n",
    "                plt.title(f'SIRD 2, fear type = {fear_type}')\n",
    "                \n",
    "        return (R0,attack_rate/N, attack_rate_death/N, cut_avg)\n",
    "    \n",
    "           \n",
    "    def plot_incidence_SIR_D(self, model, fear_type, beta=beta_pred, mu=mu_pred, fd_min = fd_min_pred, num_avg=20, plot=False, early_stop=False, stop=400):\n",
    "        T_max = self.T_max\n",
    "        incidence_avg = np.zeros(T_max)\n",
    "        incidence_death_avg = np.zeros(T_max)\n",
    "        cut_avg = 0\n",
    "        \n",
    "        if model=='SIR_D1':\n",
    "            for i in range(num_avg):\n",
    "                S,I,R,D,incidence,incidence_death,time,cut = self.evolve_SIR_D1(fear_type, beta = beta, mu = mu, fd_min = fd_min, early_stop=early_stop, stop=stop)\n",
    "                incidence_i = np.concatenate([incidence,np.zeros(T_max-len(incidence))])\n",
    "                incidence_avg = incidence_avg + incidence_i/num_avg\n",
    "\n",
    "                incidence_death_i = np.concatenate([incidence_death,np.zeros(T_max-len(incidence))])\n",
    "                incidence_death_avg = incidence_death_avg + incidence_death_i/num_avg\n",
    "\n",
    "                cut_avg = cut_avg + cut/num_avg\n",
    "\n",
    "            if plot == True:\n",
    "                plt.plot(np.arange(0,100,1),incidence_avg[:100],label='Infected')\n",
    "                plt.plot(np.arange(0,100,1),incidence_death_avg[:100]*5,label='Dead*5')\n",
    "                plt.xlabel('time')\n",
    "                plt.ylabel('Incidence')\n",
    "                plt.title(f'SIR_D 1, fear_type={fear_type}')\n",
    "                plt.legend()\n",
    "            \n",
    "        if model=='SIR_D2':\n",
    "            for i in range(num_avg):\n",
    "                S,I,R,D,incidence,incidence_death,time,cut = self.evolve_SIR_D2(fear_type, beta = beta, mu = mu, fd_min = fd_min, early_stop=early_stop, stop=stop)\n",
    "                incidence_i = np.concatenate([incidence,np.zeros(T_max-len(incidence))])\n",
    "                incidence_avg = incidence_avg + incidence_i/num_avg\n",
    "\n",
    "                incidence_death_i = np.concatenate([incidence_death,np.zeros(T_max-len(incidence))])\n",
    "                incidence_death_avg = incidence_death_avg + incidence_death_i/num_avg\n",
    "\n",
    "                cut_avg = cut_avg + cut/num_avg\n",
    "\n",
    "                if plot == True:\n",
    "                    plt.plot(np.arange(0,100,1),incidence_avg[:100],label='Infected')\n",
    "                    plt.plot(np.arange(0,100,1),incidence_death_avg[:100]*5,label='Dead*5')\n",
    "                    plt.xlabel('time')\n",
    "                    plt.ylabel('Incidence')\n",
    "                    plt.title(f'SIR_D 2, fear_type={fear_type}')\n",
    "                    plt.legend()\n",
    "                    \n",
    "        return(incidence_avg/self.N, incidence_death_avg/self.N, cut_avg)           \n",
    "            \n",
    "                "
   ]
  },
  {
   "cell_type": "markdown",
   "id": "bcbc1c98-e5ce-4259-ade3-33c92b212d8c",
   "metadata": {},
   "source": [
    "Define **Networks**:"
   ]
  },
  {
   "cell_type": "code",
   "execution_count": null,
   "id": "bdf88880-dea9-4a57-8883-acea62261539",
   "metadata": {},
   "outputs": [],
   "source": [
    "net_1000_ERG = Network(N=1000, graph_type = 'ERG')\n",
    "net_1000_BAG = Network(N=1000, graph_type = 'BAG')"
   ]
  },
  {
   "cell_type": "markdown",
   "id": "b3d4fcbc-e8fb-48d3-9de2-43055f7e4a1d",
   "metadata": {},
   "source": [
    "# Evolution plots"
   ]
  },
  {
   "cell_type": "markdown",
   "id": "8c9f4486-441b-4047-af12-333beda58844",
   "metadata": {},
   "source": [
    "- ###### No fear"
   ]
  },
  {
   "cell_type": "code",
   "execution_count": null,
   "id": "7334d6f6-9366-401b-9150-dc7d94fa3586",
   "metadata": {},
   "outputs": [],
   "source": [
    "net_1000_ERG.plot_SIR_D('SIR_D1',fear_type='no_fear')"
   ]
  },
  {
   "cell_type": "code",
   "execution_count": null,
   "id": "aa815d5f",
   "metadata": {},
   "outputs": [],
   "source": [
    "net_1000_ERG.plot_SIR_D('SIR_D2',fear_type='no_fear')"
   ]
  },
  {
   "cell_type": "markdown",
   "id": "9635a3a9-0f0f-40d0-8053-94318523b29a",
   "metadata": {},
   "source": [
    "- ###### Random"
   ]
  },
  {
   "cell_type": "code",
   "execution_count": null,
   "id": "4cf9006a-6d64-487b-9eda-1b9dc2bf5fab",
   "metadata": {},
   "outputs": [],
   "source": [
    "net_1000_ERG.plot_SIR_D('SIR_D1', fear_type='random_unif')"
   ]
  },
  {
   "cell_type": "code",
   "execution_count": null,
   "id": "1e76f058-51c7-40e8-b50a-bbfcd5f6b4c5",
   "metadata": {},
   "outputs": [],
   "source": [
    "net_1000_ERG.plot_SIR_D(model='SIR_D2',fear_type='random_unif')"
   ]
  },
  {
   "cell_type": "markdown",
   "id": "23d27ea6-ef0b-4a1f-a337-2a65b0cac805",
   "metadata": {},
   "source": [
    "- ##### Neighbor"
   ]
  },
  {
   "cell_type": "code",
   "execution_count": null,
   "id": "8b0cd8bc-fcb4-46ad-9ba4-e1e5fc623ab4",
   "metadata": {},
   "outputs": [],
   "source": [
    "net_1000_ERG.plot_SIR_D('SIR_D1', fear_type='neighbor')"
   ]
  },
  {
   "cell_type": "code",
   "execution_count": null,
   "id": "0a1b170c-d4a3-4a06-afb9-9b3863af4317",
   "metadata": {},
   "outputs": [],
   "source": [
    "net_1000_ERG.plot_SIR_D('SIR_D2', fear_type='neighbor')"
   ]
  },
  {
   "cell_type": "markdown",
   "id": "e1e7959b-56d7-4259-a7aa-332c0450ff43",
   "metadata": {},
   "source": [
    "- ##### Global "
   ]
  },
  {
   "cell_type": "code",
   "execution_count": null,
   "id": "1433e7a7-f308-4b43-b8ef-daa59042e6c6",
   "metadata": {},
   "outputs": [],
   "source": [
    "net_1000_ERG.plot_SIR_D('SIR_D1', fear_type='global')"
   ]
  },
  {
   "cell_type": "code",
   "execution_count": null,
   "id": "216eac88-3601-45f8-8696-b0445451ddfa",
   "metadata": {},
   "outputs": [],
   "source": [
    "net_1000_ERG.plot_SIR_D('SIR_D2', fear_type='global')"
   ]
  },
  {
   "cell_type": "markdown",
   "id": "ecede06e",
   "metadata": {},
   "source": [
    "# RESULTS"
   ]
  },
  {
   "cell_type": "markdown",
   "id": "6211557e",
   "metadata": {
    "jp-MarkdownHeadingCollapsed": true
   },
   "source": [
    "## 1) Attack-rate vs R0 comparison for the two SIRD models, each kind of fear in a different plot"
   ]
  },
  {
   "cell_type": "markdown",
   "id": "5e58456f-6c1e-4194-8a28-7e6132fdfab4",
   "metadata": {},
   "source": [
    "#### ER graph"
   ]
  },
  {
   "cell_type": "markdown",
   "id": "e37174ca",
   "metadata": {},
   "source": [
    "- ##### No fear"
   ]
  },
  {
   "cell_type": "code",
   "execution_count": null,
   "id": "5546ec9e",
   "metadata": {},
   "outputs": [],
   "source": [
    "R0_SIRD_1, attack_rate_SIRD_1, attack_rate_death_SIRD_1, cut_SIRD_1 = net_1000_ERG.plot_attack_rate_SIR_D(model = 'SIR_D1', fear_type = 'no_fear', num_simulations=10, num_avg=5, plot = False)\n",
    "R0_SIRD_2, attack_rate_SIRD_2, attack_rate_death_SIRD_2, cut_SIRD_2 = net_1000_ERG.plot_attack_rate_SIR_D(model = 'SIR_D2', fear_type = 'no_fear', num_simulations=10, num_avg=5, plot = False)\n",
    "\n",
    "plt.plot(R0_SIRD_1, attack_rate_SIRD_1, label = f'SIR_D 1, cut = {np.round(cut_SIRD_1)}')\n",
    "plt.plot(R0_SIRD_2, attack_rate_SIRD_2, label = f'SIR_D 2, cut = {np.round(cut_SIRD_2)}')\n",
    "plt.legend()\n",
    "plt.xlabel('R0')\n",
    "plt.ylabel('Attack rate')\n",
    "plt.title('No fear')\n",
    "plt.show()"
   ]
  },
  {
   "cell_type": "code",
   "execution_count": null,
   "id": "8f85cae6",
   "metadata": {},
   "outputs": [],
   "source": [
    "plt.plot(R0_SIRD_1, attack_rate_death_SIRD_1, label = f'SIR_D 1, cut = {np.round(cut_SIRD_1)}')\n",
    "plt.plot(R0_SIRD_2, attack_rate_death_SIRD_2, label = f'SIR_D 2, cut = {np.round(cut_SIRD_2)}')\n",
    "plt.legend()\n",
    "plt.xlabel('R0')\n",
    "plt.ylabel('Attack rate death')\n",
    "plt.title('No fear')\n",
    "plt.show()"
   ]
  },
  {
   "cell_type": "markdown",
   "id": "3db386d2",
   "metadata": {},
   "source": [
    "- ##### Random"
   ]
  },
  {
   "cell_type": "code",
   "execution_count": null,
   "id": "ad688ba4",
   "metadata": {},
   "outputs": [],
   "source": [
    "R0_SIRD_1, attack_rate_SIRD_1, attack_rate_death_SIRD_1, cut_SIRD_1 = net_1000_ERG.plot_attack_rate_SIR_D(model = 'SIR_D1', fear_type = 'random_unif', plot = False)\n",
    "R0_SIRD_2, attack_rate_SIRD_2, attack_rate_death_SIRD_2, cut_SIRD_2 = net_1000_ERG.plot_attack_rate_SIR_D(model = 'SIR_D2', fear_type = 'random_unif', plot = False)\n",
    "\n",
    "plt.plot(R0_SIRD_1, attack_rate_SIRD_1, label = f'SIR_D 1, cut = {np.round(cut_SIRD_1)}')\n",
    "plt.plot(R0_SIRD_2, attack_rate_SIRD_2, label = f'SIR_D 2, cut = {np.round(cut_SIRD_2)}')\n",
    "plt.legend()\n",
    "plt.xlabel('R0')\n",
    "plt.ylabel('Attack rate')\n",
    "plt.title('Random')\n",
    "plt.show()"
   ]
  },
  {
   "cell_type": "code",
   "execution_count": null,
   "id": "62ee2fa1",
   "metadata": {},
   "outputs": [],
   "source": [
    "plt.plot(R0_SIRD_1, attack_rate_death_SIRD_1, label = f'SIR_D 1, cut = {np.round(cut_SIRD_1)}')\n",
    "plt.plot(R0_SIRD_2, attack_rate_death_SIRD_2, label = f'SIR_D 2, cut = {np.round(cut_SIRD_2)}')\n",
    "plt.legend()\n",
    "plt.xlabel('R0')\n",
    "plt.ylabel('Attack rate death')\n",
    "plt.title('Random')\n",
    "plt.show()"
   ]
  },
  {
   "cell_type": "markdown",
   "id": "ad334067",
   "metadata": {},
   "source": [
    "- ##### Neighbor"
   ]
  },
  {
   "cell_type": "code",
   "execution_count": null,
   "id": "39c2ab97",
   "metadata": {},
   "outputs": [],
   "source": [
    "R0_SIRD_1, attack_rate_SIRD_1, attack_rate_death_SIRD_1, cut_SIRD_1 = net_1000_ERG.plot_attack_rate_SIR_D(model = 'SIR_D1', fear_type = 'neighbor', num_simulations=10, num_avg=5, plot = False)\n",
    "R0_SIRD_2, attack_rate_SIRD_2, attack_rate_death_SIRD_2, cut_SIRD_2 = net_1000_ERG.plot_attack_rate_SIR_D(model = 'SIR_D2', fear_type = 'neighbor', num_simulations=10, num_avg=5, plot = False)\n",
    "\n",
    "plt.plot(R0_SIRD_1, attack_rate_SIRD_1, label = f'SIR_D 1, cut = {np.round(cut_SIRD_1)}')\n",
    "plt.plot(R0_SIRD_2, attack_rate_SIRD_2, label = f'SIR_D 2, cut = {np.round(cut_SIRD_2)}')\n",
    "plt.legend()\n",
    "plt.xlabel('R0')\n",
    "plt.ylabel('Attack rate')\n",
    "plt.title('Neighbor')\n",
    "plt.show()"
   ]
  },
  {
   "cell_type": "code",
   "execution_count": null,
   "id": "10e04ae4",
   "metadata": {},
   "outputs": [],
   "source": [
    "plt.plot(R0_SIRD_1, attack_rate_death_SIRD_1, label = f'SIR_D 1, cut = {np.round(cut_SIRD_1)}')\n",
    "plt.plot(R0_SIRD_2, attack_rate_death_SIRD_2, label = f'SIR_D 2, cut = {np.round(cut_SIRD_2)}')\n",
    "plt.legend()\n",
    "plt.xlabel('R0')\n",
    "plt.ylabel('Attack rate death')\n",
    "plt.title('Neighbor')\n",
    "plt.show()"
   ]
  },
  {
   "cell_type": "markdown",
   "id": "30ddeb47",
   "metadata": {},
   "source": [
    "- ##### Global"
   ]
  },
  {
   "cell_type": "code",
   "execution_count": null,
   "id": "47a9a12a",
   "metadata": {},
   "outputs": [],
   "source": [
    "R0_SIRD_1, attack_rate_SIRD_1, attack_rate_death_SIRD_1, cut_SIRD_1 = net_1000_ERG.plot_attack_rate_SIR_D(model = 'SIR_D1', fear_type = 'global', plot = False)\n",
    "R0_SIRD_2, attack_rate_SIRD_2, attack_rate_death_SIRD_2, cut_SIRD_2 = net_1000_ERG.plot_attack_rate_SIR_D(model = 'SIR_D2', fear_type = 'global', plot = False)\n",
    "\n",
    "plt.plot(R0_SIRD_1, attack_rate_SIRD_1, label = f'SIR_D 1, cut = {np.round(cut_SIRD_1)}')\n",
    "plt.plot(R0_SIRD_2, attack_rate_SIRD_2, label = f'SIR_D 2, cut = {np.round(cut_SIRD_2)}')\n",
    "plt.legend()\n",
    "plt.xlabel('R0')\n",
    "plt.ylabel('Attack rate')\n",
    "plt.title('Global')\n",
    "plt.show()"
   ]
  },
  {
   "cell_type": "code",
   "execution_count": null,
   "id": "72d06a01",
   "metadata": {},
   "outputs": [],
   "source": [
    "plt.plot(R0_SIRD_1, attack_rate_death_SIRD_1, label = f'SIR_D 1, cut = {np.round(cut_SIRD_1)}')\n",
    "plt.plot(R0_SIRD_2, attack_rate_death_SIRD_2, label = f'SIR_D 2, cut = {np.round(cut_SIRD_2)}')\n",
    "plt.legend()\n",
    "plt.xlabel('R0')\n",
    "plt.ylabel('Attack rate death')\n",
    "plt.title('Global')\n",
    "plt.show()"
   ]
  },
  {
   "cell_type": "markdown",
   "id": "14265646-00ed-40d4-838f-f06dfc2c94c6",
   "metadata": {},
   "source": [
    "#### BA graph"
   ]
  },
  {
   "cell_type": "markdown",
   "id": "cebc4a34-9a23-441d-a9b2-6d5c1293a301",
   "metadata": {},
   "source": [
    "- ##### No fear"
   ]
  },
  {
   "cell_type": "code",
   "execution_count": null,
   "id": "4924fe80-408f-47b6-8e82-852dd26e5d77",
   "metadata": {},
   "outputs": [],
   "source": [
    "R0_SIRD_1, attack_rate_SIRD_1, attack_rate_death_SIRD_1, cut_SIRD_1 = net_1000_BAG.plot_attack_rate_SIR_D(model = 'SIR_D1', fear_type = 'no_fear', plot = False)\n",
    "R0_SIRD_2, attack_rate_SIRD_2, attack_rate_death_SIRD_2, cut_SIRD_2 = net_1000_BAG.plot_attack_rate_SIR_D(model = 'SIR_D2', fear_type = 'no_fear', plot = False)\n",
    "\n",
    "plt.plot(R0_SIRD_1, attack_rate_SIRD_1, label = f'SIR_D 1, cut = {np.round(cut_SIRD_1)}')\n",
    "plt.plot(R0_SIRD_2, attack_rate_SIRD_2, label = f'SIR_D 2, cut = {np.round(cut_SIRD_2)}')\n",
    "plt.legend()\n",
    "plt.xlabel('R0')\n",
    "plt.ylabel('Attack rate')\n",
    "plt.title('No fear')\n",
    "plt.show()"
   ]
  },
  {
   "cell_type": "code",
   "execution_count": null,
   "id": "6e2a6acd-255a-4110-ba86-ddd2c5db4cd7",
   "metadata": {},
   "outputs": [],
   "source": [
    "plt.plot(R0_SIRD_1, attack_rate_death_SIRD_1, label = f'SIR_D 1, cut = {np.round(cut_SIRD_1)}')\n",
    "plt.plot(R0_SIRD_2, attack_rate_death_SIRD_2, label = f'SIR_D 2, cut = {np.round(cut_SIRD_2)}')\n",
    "plt.legend()\n",
    "plt.xlabel('R0')\n",
    "plt.ylabel('Attack rate death')\n",
    "plt.title('No fear')\n",
    "plt.show()"
   ]
  },
  {
   "cell_type": "markdown",
   "id": "3a712504-6179-4bf3-8f69-c764b1b868a6",
   "metadata": {},
   "source": [
    "- ##### Random"
   ]
  },
  {
   "cell_type": "code",
   "execution_count": null,
   "id": "9a687c98-2ebe-42e9-a5b6-c4c7aa60f695",
   "metadata": {},
   "outputs": [],
   "source": [
    "R0_SIRD_1, attack_rate_SIRD_1, attack_rate_death_SIRD_1, cut_SIRD_1 = net_1000_BAG.plot_attack_rate_SIR_D(model = 'SIR_D1', fear_type = 'random_unif', plot = False)\n",
    "R0_SIRD_2, attack_rate_SIRD_2, attack_rate_death_SIRD_2, cut_SIRD_2 = net_1000_BAG.plot_attack_rate_SIR_D(model = 'SIR_D2', fear_type = 'random_unif', plot = False)\n",
    "\n",
    "plt.plot(R0_SIRD_1, attack_rate_SIRD_1, label = f'SIR_D 1, cut = {np.round(cut_SIRD_1)}')\n",
    "plt.plot(R0_SIRD_2, attack_rate_SIRD_2, label = f'SIR_D 2, cut = {np.round(cut_SIRD_2)}')\n",
    "plt.legend()\n",
    "plt.xlabel('R0')\n",
    "plt.ylabel('Attack rate')\n",
    "plt.title('Random')\n",
    "plt.show()"
   ]
  },
  {
   "cell_type": "code",
   "execution_count": null,
   "id": "2fa2fc20-a51e-4017-a8d7-0057e5093396",
   "metadata": {},
   "outputs": [],
   "source": [
    "plt.plot(R0_SIRD_1, attack_rate_death_SIRD_1, label = f'SIR_D 1, cut = {np.round(cut_SIRD_1)}')\n",
    "plt.plot(R0_SIRD_2, attack_rate_death_SIRD_2, label = f'SIR_D 2, cut = {np.round(cut_SIRD_2)}')\n",
    "plt.legend()\n",
    "plt.xlabel('R0')\n",
    "plt.ylabel('Attack rate death')\n",
    "plt.title('Random')\n",
    "plt.show()"
   ]
  },
  {
   "cell_type": "markdown",
   "id": "9bbdbca3-b17c-43ca-a670-fe82bc21f805",
   "metadata": {},
   "source": [
    "- #### Neighbor"
   ]
  },
  {
   "cell_type": "code",
   "execution_count": null,
   "id": "811c4383-a069-423e-8659-a026eb12c92b",
   "metadata": {},
   "outputs": [],
   "source": [
    "R0_SIRD_1, attack_rate_SIRD_1, attack_rate_death_SIRD_1, cut_SIRD_1 = net_1000_BAG.plot_attack_rate_SIR_D(model = 'SIR_D1', fear_type = 'neighbor', plot = False)\n",
    "R0_SIRD_2, attack_rate_SIRD_2, attack_rate_death_SIRD_2, cut_SIRD_2 = net_1000_BAG.plot_attack_rate_SIR_D(model = 'SIR_D2', fear_type = 'neighbor', plot = False)\n",
    "\n",
    "plt.plot(R0_SIRD_1, attack_rate_SIRD_1, label = f'SIR_D 1, cut = {np.round(cut_SIRD_1)}')\n",
    "plt.plot(R0_SIRD_2, attack_rate_SIRD_2, label = f'SIR_D 2, cut = {np.round(cut_SIRD_2)}')\n",
    "plt.legend()\n",
    "plt.xlabel('R0')\n",
    "plt.ylabel('Attack rate')\n",
    "plt.title('Neighbor')\n",
    "plt.show()"
   ]
  },
  {
   "cell_type": "code",
   "execution_count": null,
   "id": "d62df2ab-4c3a-44bb-9ebd-4b30d184ff62",
   "metadata": {},
   "outputs": [],
   "source": [
    "plt.plot(R0_SIRD_1, attack_rate_death_SIRD_1, label = f'SIR_D 1, cut = {np.round(cut_SIRD_1)}')\n",
    "plt.plot(R0_SIRD_2, attack_rate_death_SIRD_2, label = f'SIR_D 2, cut = {np.round(cut_SIRD_2)}')\n",
    "plt.legend()\n",
    "plt.xlabel('R0')\n",
    "plt.ylabel('Attack rate death')\n",
    "plt.title('Neighbor')\n",
    "plt.show()"
   ]
  },
  {
   "cell_type": "markdown",
   "id": "e64682cc-3842-4a20-a7d3-b992bec67389",
   "metadata": {},
   "source": [
    "- #### Global"
   ]
  },
  {
   "cell_type": "code",
   "execution_count": null,
   "id": "53bbe758-b227-465a-8c48-b2ff8804ae8e",
   "metadata": {},
   "outputs": [],
   "source": [
    "R0_SIRD_1, attack_rate_SIRD_1, attack_rate_death_SIRD_1, cut_SIRD_1 = net_1000_BAG.plot_attack_rate_SIR_D(model = 'SIR_D1', fear_type = 'global', plot = False)\n",
    "R0_SIRD_2, attack_rate_SIRD_2, attack_rate_death_SIRD_2, cut_SIRD_2 = net_1000_BAG.plot_attack_rate_SIR_D(model = 'SIR_D2', fear_type = 'global', plot = False)\n",
    "\n",
    "plt.plot(R0_SIRD_1, attack_rate_SIRD_1, label = f'SIR_D 1, cut = {np.round(cut_SIRD_1)}')\n",
    "plt.plot(R0_SIRD_2, attack_rate_SIRD_2, label = f'SIR_D 2, cut = {np.round(cut_SIRD_2)}')\n",
    "plt.legend()\n",
    "plt.xlabel('R0')\n",
    "plt.ylabel('Attack rate')\n",
    "plt.title('Global')\n",
    "plt.show()"
   ]
  },
  {
   "cell_type": "code",
   "execution_count": null,
   "id": "f4e6d6a9-895d-4c1f-948f-bf3d3f94ef8a",
   "metadata": {},
   "outputs": [],
   "source": [
    "plt.plot(R0_SIRD_1, attack_rate_death_SIRD_1, label = f'SIR_D 1, cut = {np.round(cut_SIRD_1)}')\n",
    "plt.plot(R0_SIRD_2, attack_rate_death_SIRD_2, label = f'SIR_D 2, cut = {np.round(cut_SIRD_2)}')\n",
    "plt.legend()\n",
    "plt.xlabel('R0')\n",
    "plt.ylabel('Attack rate death')\n",
    "plt.title('Global')\n",
    "plt.show()"
   ]
  },
  {
   "cell_type": "markdown",
   "id": "8d93963c",
   "metadata": {
    "jp-MarkdownHeadingCollapsed": true
   },
   "source": [
    "## 2) Attack-rate vs R0 comparison for all fear kinds in one same model"
   ]
  },
  {
   "cell_type": "code",
   "execution_count": null,
   "id": "07529e81",
   "metadata": {},
   "outputs": [],
   "source": [
    "def attack_rate_vs_R0(model, graph):\n",
    "    fear_types = ['no_fear', 'random_unif', 'neighbor', 'global']\n",
    "    attack_rate_list = []\n",
    "    attack_rate_death_list = []\n",
    "    cut_avg_list = []\n",
    "    \n",
    "    if graph == 'ERG':\n",
    "        network = net_1000_ERG\n",
    "    if graph == 'BAG':\n",
    "        network = net_1000_BAG\n",
    "    \n",
    "    for i in range(len(fear_types)):\n",
    "        R0, attack_rate, attack_rate_death, cut_avg = network.plot_attack_rate_SIR_D(model = model, fear_type = fear_types[i], num_simulations=80, num_avg=40, plot=False)\n",
    "        attack_rate_list.append(attack_rate)\n",
    "        attack_rate_death_list.append(attack_rate_death)\n",
    "        cut_avg_list.append(cut_avg)\n",
    "    return(R0, attack_rate_list, attack_rate_death_list, cut_avg_list)\n",
    "\n",
    "def plot_attack_rate_vs_R0(model, infected_or_dead, R0, attack_rate_list, attack_rate_death_list, cut_avg_list):\n",
    "    \n",
    "    fear_types = ['No fear', 'Random', 'Neighbor', 'Global']\n",
    "    plt.figure(figsize = (6, 2.75))\n",
    "    \n",
    "    if infected_or_dead=='infected':\n",
    "        for i in range(len(fear_types)):\n",
    "            plt.plot(R0, attack_rate_list[i], label = f'{fear_types[i]}, cut={np.round(cut_avg_list[i])}')\n",
    "        plt.legend()\n",
    "        plt.xlabel('R0')\n",
    "        plt.ylabel('Attack rate')\n",
    "        plt.title(model)\n",
    "    if infected_or_dead=='dead':\n",
    "        for i in range(len(fear_types)):\n",
    "            plt.plot(R0, attack_rate_death_list[i], label = f'{fear_types[i]}, cut={np.round(cut_avg_list[i])}')\n",
    "        plt.legend()\n",
    "        plt.xlabel('R0')\n",
    "        plt.ylabel('Death attack rate')\n",
    "        plt.title(model)"
   ]
  },
  {
   "cell_type": "markdown",
   "id": "12338e76",
   "metadata": {},
   "source": [
    "### Graph A) ERDOS RENYI"
   ]
  },
  {
   "cell_type": "markdown",
   "id": "69750ce6",
   "metadata": {},
   "source": [
    "#### A.1) All fears compared for SIRD1"
   ]
  },
  {
   "cell_type": "code",
   "execution_count": null,
   "id": "51723e76",
   "metadata": {},
   "outputs": [],
   "source": [
    "R0_ERG_1, attack_rate_list_ERG_1, attack_rate_death_list_ERG_1, cut_avg_list_ERG_1 = attack_rate_vs_R0('SIR_D1', 'ERG')"
   ]
  },
  {
   "cell_type": "markdown",
   "id": "bcb38853",
   "metadata": {},
   "source": [
    "##### Infected Attack Rate"
   ]
  },
  {
   "cell_type": "code",
   "execution_count": null,
   "id": "4d8f3346",
   "metadata": {},
   "outputs": [],
   "source": [
    "plot_attack_rate_vs_R0('SIR_D1', 'infected', R0_ERG_1, attack_rate_list_ERG_1, attack_rate_death_list_ERG_1, cut_avg_list_ERG_1)"
   ]
  },
  {
   "cell_type": "markdown",
   "id": "0414c1ee",
   "metadata": {},
   "source": [
    "##### Dead Attack Rate"
   ]
  },
  {
   "cell_type": "code",
   "execution_count": null,
   "id": "595d9c2a",
   "metadata": {},
   "outputs": [],
   "source": [
    "plot_attack_rate_vs_R0('SIR_D1', 'dead', R0_ERG_1, attack_rate_list_ERG_1, attack_rate_death_list_ERG_1, cut_avg_list_ERG_1)"
   ]
  },
  {
   "cell_type": "markdown",
   "id": "6583ee04",
   "metadata": {},
   "source": [
    "#### A.2) All fears compared for SIRD2"
   ]
  },
  {
   "cell_type": "code",
   "execution_count": null,
   "id": "eed046e8",
   "metadata": {},
   "outputs": [],
   "source": [
    "R0_ERG_2, attack_rate_list_ERG_2, attack_rate_death_list_ERG_2, cut_avg_list_ERG_2 = attack_rate_vs_R0('SIR_D2', 'ERG')"
   ]
  },
  {
   "cell_type": "markdown",
   "id": "7e62bdff",
   "metadata": {},
   "source": [
    "##### Infected Attack Rate"
   ]
  },
  {
   "cell_type": "code",
   "execution_count": null,
   "id": "6610a827",
   "metadata": {},
   "outputs": [],
   "source": [
    "plot_attack_rate_vs_R0('SIR_D2', 'infected', R0_ERG_2, attack_rate_list_ERG_2, attack_rate_death_list_ERG_2, cut_avg_list_ERG_2)"
   ]
  },
  {
   "cell_type": "markdown",
   "id": "2474ca4e",
   "metadata": {},
   "source": [
    "##### Dead Attack Rate"
   ]
  },
  {
   "cell_type": "code",
   "execution_count": null,
   "id": "c048b4cf",
   "metadata": {},
   "outputs": [],
   "source": [
    "plot_attack_rate_vs_R0('SIR_D2', 'dead', R0_ERG_2, attack_rate_list_ERG_2, attack_rate_death_list_ERG_2, cut_avg_list_ERG_2)"
   ]
  },
  {
   "cell_type": "markdown",
   "id": "c34a77ac",
   "metadata": {},
   "source": [
    "### Graph B) Barabasi-Albert"
   ]
  },
  {
   "cell_type": "markdown",
   "id": "f00773a9",
   "metadata": {},
   "source": [
    "#### B.1) All fears compared for SIRD1"
   ]
  },
  {
   "cell_type": "code",
   "execution_count": null,
   "id": "de1b09cf",
   "metadata": {},
   "outputs": [],
   "source": [
    "R0_BAG_1, attack_rate_list_BAG_1, attack_rate_death_list_BAG_1, cut_avg_list_BAG_1 = attack_rate_vs_R0('SIR_D1', 'BAG')"
   ]
  },
  {
   "cell_type": "markdown",
   "id": "55a3333e",
   "metadata": {},
   "source": [
    "##### Infected Attack Rate"
   ]
  },
  {
   "cell_type": "code",
   "execution_count": null,
   "id": "70b50b00",
   "metadata": {},
   "outputs": [],
   "source": [
    "plot_attack_rate_vs_R0('SIR_D1', 'infected', R0_BAG_1, attack_rate_list_BAG_1, attack_rate_death_list_BAG_1, cut_avg_list_BAG_1  )"
   ]
  },
  {
   "cell_type": "markdown",
   "id": "dafa4e7d",
   "metadata": {},
   "source": [
    "##### Dead Attack Rate"
   ]
  },
  {
   "cell_type": "code",
   "execution_count": null,
   "id": "ab5492db",
   "metadata": {},
   "outputs": [],
   "source": [
    "plot_attack_rate_vs_R0('SIR_D1', 'dead', R0_BAG_1, attack_rate_list_BAG_1, attack_rate_death_list_BAG_1, cut_avg_list_BAG_1 )"
   ]
  },
  {
   "cell_type": "markdown",
   "id": "609b9806",
   "metadata": {},
   "source": [
    "#### B.2) All fears compared for SIRD2"
   ]
  },
  {
   "cell_type": "code",
   "execution_count": null,
   "id": "e06d0875",
   "metadata": {},
   "outputs": [],
   "source": [
    "R0_BAG_2, attack_rate_list_BAG_2, attack_rate_death_list_BAG_2, cut_avg_list_BAG_2 = attack_rate_vs_R0('SIR_D2', 'BAG')"
   ]
  },
  {
   "cell_type": "markdown",
   "id": "f34c0d0d",
   "metadata": {},
   "source": [
    "##### Infected Attack Rate"
   ]
  },
  {
   "cell_type": "code",
   "execution_count": null,
   "id": "7ac2a76c",
   "metadata": {},
   "outputs": [],
   "source": [
    "plot_attack_rate_vs_R0('SIR_D2', 'infected', R0_BAG_2, attack_rate_list_BAG_2, attack_rate_death_list_BAG_2, cut_avg_list_BAG_2 )"
   ]
  },
  {
   "cell_type": "markdown",
   "id": "8dee45f7",
   "metadata": {},
   "source": [
    "##### Dead Attack Rate"
   ]
  },
  {
   "cell_type": "code",
   "execution_count": null,
   "id": "0af65232",
   "metadata": {},
   "outputs": [],
   "source": [
    "plot_attack_rate_vs_R0('SIR_D2', 'dead', R0_BAG_2, attack_rate_list_BAG_2, attack_rate_death_list_BAG_2, cut_avg_list_BAG_2)"
   ]
  },
  {
   "cell_type": "markdown",
   "id": "5ac39bdb-7504-4f72-91fb-0e64a52d214e",
   "metadata": {},
   "source": [
    "## 3) Incidence depending on time"
   ]
  },
  {
   "cell_type": "code",
   "execution_count": null,
   "id": "6af0c263-6661-489d-a214-67a41781a427",
   "metadata": {},
   "outputs": [],
   "source": [
    "def temporal_avg(array, window=10):\n",
    "    nuevo = np.zeros(len(d_no))\n",
    "    for i in range(window,len(d_no)-window):\n",
    "        nuevo[i] = np.mean(array[i-window:i+window])\n",
    "    return(nuevo)"
   ]
  },
  {
   "cell_type": "code",
   "execution_count": null,
   "id": "d732d651-2a68-46b4-8754-60f0b1e9f9a1",
   "metadata": {},
   "outputs": [],
   "source": [
    "beta_ =  beta_pred/20\n",
    "mu_ = mu_pred/20\n",
    "fd_min_ = mu_/20\n",
    "\n",
    "num_avg_= 500\n",
    "\n",
    "stop_=200\n"
   ]
  },
  {
   "cell_type": "markdown",
   "id": "94f1ac03-4198-4c63-927a-ec8567366af0",
   "metadata": {},
   "source": [
    "### SIRD 1"
   ]
  },
  {
   "cell_type": "markdown",
   "id": "cdbf9d6b-b869-4044-a838-6006a536f693",
   "metadata": {},
   "source": [
    "#### -ERG"
   ]
  },
  {
   "cell_type": "code",
   "execution_count": null,
   "id": "8a2191d6-5a6f-42bf-9679-8ed701ede67c",
   "metadata": {},
   "outputs": [],
   "source": [
    "\n",
    "#i_no, d_no, cut_no = net_1000_ERG.plot_incidence_SIR_D(model='SIR_D1',fear_type='no_fear',beta=beta_ , mu=mu_, fd_min=fd_min_, early_stop=True,stop=stop_, num_avg=num_avg_)\n",
    "print(1)\n",
    "#i_rand, d_rand, cut_rand = net_1000_ERG.plot_incidence_SIR_D(model='SIR_D1',fear_type='random_unif',beta=beta_ , mu=mu_, fd_min=fd_min_, early_stop=True,stop=stop_, num_avg=num_avg_)\n",
    "#i_neighbour, d_neighbour, cut_neighbour = net_1000_ERG.plot_incidence_SIR_D(model='SIR_D1',fear_type='neighbor',beta=beta_ , mu=mu_, fd_min=fd_min_, early_stop=True,stop=stop_, num_avg=num_avg_)\n",
    "print(2)\n",
    "#i_global, d_global, cut_global = net_1000_ERG.plot_incidence_SIR_D(model='SIR_D1',fear_type='global',beta=beta_ , mu=mu_, fd_min=fd_min_, early_stop=True,stop=stop_, num_avg=num_avg_)\n"
   ]
  },
  {
   "cell_type": "code",
   "execution_count": null,
   "id": "60098aaa-7e8d-48f0-8ddc-91b2e8a979cf",
   "metadata": {},
   "outputs": [],
   "source": [
    "plt.figure(figsize=(6,2.75))\n",
    "cap_max = 50\n",
    "cap_min = 5\n",
    "plt.plot(np.arange(cap_min,cap_max,1),(i_no/np.sum(i_no))[cap_min:cap_max],label=f'No fear, cut={np.round(cut_no)}')\n",
    "#plt.plot(np.arange(cap_min,cap_max,1),(i_rand/np.sum(i_rand))[cap_min:cap_max],label=f'Random, cut={np.round(cut_rand)}')\n",
    "plt.plot(np.arange(cap_min,cap_max,1),(i_neighbour/np.sum(i_neighbour))[cap_min:cap_max],label=f'Neighbour, cut={np.round(cut_neighbour)}')\n",
    "plt.plot(np.arange(cap_min,cap_max,1),(i_global/np.sum(i_global))[cap_min:cap_max],label=f'Global, cut={np.round(cut_global)}')\n",
    "plt.legend()\n",
    "plt.title('Infected normalized (ERG)')\n",
    "plt.xlabel('time')\n",
    "plt.ylabel('incidence/attack rate')\n",
    "#plt.yscale('log')\n",
    "plt.show()"
   ]
  },
  {
   "cell_type": "code",
   "execution_count": null,
   "id": "57e779cf-0bb8-4ce4-87a8-3cc9ce353a24",
   "metadata": {},
   "outputs": [],
   "source": [
    "plt.figure(figsize=(6,2.75))\n",
    "cap_max = 50\n",
    "cap_min = 5\n",
    "plt.plot(np.arange(cap_min,cap_max,1),(i_no)[cap_min:cap_max],label=f'No fear, cut={np.round(cut_no)}')\n",
    "#plt.plot(np.arange(cap_min,cap_max,1),(i_rand)[cap_min:cap_max],label=f'Random, cut={np.round(cut_rand)}')\n",
    "plt.plot(np.arange(cap_min,cap_max,1),(i_neighbour)[cap_min:cap_max],label=f'Neighbour, cut={np.round(cut_neighbour)}')\n",
    "plt.plot(np.arange(cap_min,cap_max,1),(i_global)[cap_min:cap_max],label=f'Global, cut={np.round(cut_global)}')\n",
    "plt.legend()\n",
    "plt.title('Infected (ERG)')\n",
    "plt.xlabel('time')\n",
    "plt.ylabel('incidence')\n",
    "#plt.yscale('log')\n",
    "\n",
    "plt.show()"
   ]
  },
  {
   "cell_type": "code",
   "execution_count": null,
   "id": "aeb29ec1-76b8-4610-ac48-531a3f034546",
   "metadata": {},
   "outputs": [],
   "source": [
    "plt.figure(figsize=(6,2.75))\n",
    "cap_max = 190\n",
    "cap_min = 10\n",
    "plt.plot(np.arange(cap_min,cap_max,1),temporal_avg(d_no/np.sum(d_no))[cap_min:cap_max],label=f'No fear, cut={np.round(cut_no)}')\n",
    "#plt.plot(np.arange(cap_min,cap_max,1),temporal_avg(d_rand/np.sum(d_rand))[cap_min:cap_max],label=f'Random, cut={np.round(cut_rand)}')\n",
    "plt.plot(np.arange(cap_min,cap_max,1),temporal_avg(d_neighbour/np.sum(d_neighbour))[cap_min:cap_max],label=f'Neighbour, cut={np.round(cut_neighbour)}')\n",
    "plt.plot(np.arange(cap_min,cap_max,1),temporal_avg(d_global/np.sum(d_global))[cap_min:cap_max],label=f'Global, cut={np.round(cut_global)}')\n",
    "plt.legend()\n",
    "plt.title('Dead normalized (ERG)')\n",
    "plt.xlabel('time')\n",
    "plt.ylabel('incidence/attack rate')\n",
    "#plt.yscale('log')\n",
    "plt.show()"
   ]
  },
  {
   "cell_type": "code",
   "execution_count": null,
   "id": "4d20cfab-8552-4b91-a29b-bdbca65fb73b",
   "metadata": {},
   "outputs": [],
   "source": [
    "plt.figure(figsize=(6,2.75))\n",
    "cap_max = 190\n",
    "cap_min = 10\n",
    "plt.plot(np.arange(cap_min,cap_max,1),temporal_avg(d_no)[cap_min:cap_max],label=f'No fear, cut={np.round(cut_no)}')\n",
    "#plt.plot(np.arange(cap_min,cap_max,1),temporal_avg(d_rand)[cap_min:cap_max],label=f'Random, cut={np.round(cut_rand)}')\n",
    "plt.plot(np.arange(cap_min,cap_max,1),temporal_avg(d_neighbour)[cap_min:cap_max],label=f'Neighbour, cut={np.round(cut_neighbour)}')\n",
    "plt.plot(np.arange(cap_min,cap_max,1),temporal_avg(d_global)[cap_min:cap_max],label=f'Global, cut={np.round(cut_global)}')\n",
    "plt.legend()\n",
    "plt.title('Dead (ERG)')\n",
    "plt.xlabel('time')\n",
    "plt.ylabel('incidence')\n",
    "#plt.yscale('log')\n",
    "plt.show()"
   ]
  },
  {
   "cell_type": "markdown",
   "id": "5dae71d5-071e-477f-ab74-eee0551c4dba",
   "metadata": {},
   "source": [
    "#### -BAG"
   ]
  },
  {
   "cell_type": "code",
   "execution_count": null,
   "id": "8f1fd4b1-9c5d-4b3e-a198-c54fcaa311e2",
   "metadata": {},
   "outputs": [],
   "source": [
    "\n",
    "#i_no_bag, d_no_bag, cut_no_bag = net_1000_BAG.plot_incidence_SIR_D(model='SIR_D1',fear_type='no_fear',beta=beta_ , mu=mu_, fd_min=fd_min_, early_stop=True,stop=stop_, num_avg=num_avg_)\n",
    "#i_rand_bag, d_rand_bag, cut_rand_bag = net_1000_BAG.plot_incidence_SIR_D(model='SIR_D1',fear_type='random_unif',beta=beta_ , mu=mu_, fd_min=fd_min_, early_stop=True,stop=stop_, num_avg=num_avg_)\n",
    "#i_neighbour_bag, d_neighbour_bag, cut_neighbour_bag = net_1000_BAG.plot_incidence_SIR_D(model='SIR_D1',fear_type='neighbor',beta=beta_ , mu=mu_, fd_min=fd_min_, early_stop=True,stop=stop_, num_avg=num_avg_)\n",
    "#i_global_bag, d_global_bag, cut_global_bag = net_1000_BAG.plot_incidence_SIR_D(model='SIR_D1',fear_type='global',beta=beta_ , mu=mu_, fd_min=fd_min_, early_stop=True,stop=stop_, num_avg=num_avg_)\n"
   ]
  },
  {
   "cell_type": "code",
   "execution_count": null,
   "id": "adf931d8-6f16-4461-9943-6860a865610c",
   "metadata": {},
   "outputs": [],
   "source": [
    "plt.figure(figsize=(6,2.75))\n",
    "cap_max = 50\n",
    "cap_min = 5\n",
    "plt.plot(np.arange(cap_min,cap_max,1),(i_no_bag/np.sum(i_no_bag))[cap_min:cap_max],label=f'No fear, cut={np.round(cut_no_bag)}')\n",
    "#plt.plot(np.arange(cap_min,cap_max,1),(i_rand_bag/np.sum(i_rand_bag))[cap_min:cap_max],label=f'Random, cut={np.round(cut_rand)}')\n",
    "plt.plot(np.arange(cap_min,cap_max,1),(i_neighbour_bag/np.sum(i_neighbour_bag))[cap_min:cap_max],label=f'Neighbour, cut={np.round(cut_neighbour_bag)}')\n",
    "plt.plot(np.arange(cap_min,cap_max,1),(i_global_bag/np.sum(i_global_bag))[cap_min:cap_max],label=f'Global, cut={np.round(cut_global_bag)}')\n",
    "plt.legend()\n",
    "plt.title('Infected normalized (BAG)')\n",
    "plt.xlabel('time')\n",
    "plt.ylabel('incidence/attack rate')\n",
    "plt.show()"
   ]
  },
  {
   "cell_type": "code",
   "execution_count": null,
   "id": "6defd19d-2726-48a4-a732-f931b120010b",
   "metadata": {},
   "outputs": [],
   "source": [
    "plt.figure(figsize=(6,2.75))\n",
    "cap_max = 50\n",
    "cap_min = 5\n",
    "plt.plot(np.arange(cap_min,cap_max,1),(i_no_bag)[cap_min:cap_max],label=f'No fear, cut={np.round(cut_no_bag)}')\n",
    "#plt.plot(np.arange(cap_min,cap_max,1),(i_rand_bag)[cap_min:cap_max],label=f'Random, cut={np.round(cut_rand)}')\n",
    "plt.plot(np.arange(cap_min,cap_max,1),(i_neighbour_bag)[cap_min:cap_max],label=f'Neighbour, cut={np.round(cut_neighbour_bag)}')\n",
    "plt.plot(np.arange(cap_min,cap_max,1),(i_global_bag)[cap_min:cap_max],label=f'Global, cut={np.round(cut_global_bag)}')\n",
    "plt.legend()\n",
    "plt.title('Infected (BAG)')\n",
    "plt.xlabel('time')\n",
    "plt.ylabel('incidence')\n",
    "plt.show()"
   ]
  },
  {
   "cell_type": "code",
   "execution_count": null,
   "id": "d9bb2aec-cc5e-44ba-888f-96772d7659eb",
   "metadata": {},
   "outputs": [],
   "source": [
    "plt.figure(figsize=(6,2.75))\n",
    "cap_max = 190\n",
    "cap_min = 10\n",
    "plt.plot(np.arange(cap_min,cap_max,1),temporal_avg(d_no_bag/np.sum(d_no_bag))[cap_min:cap_max],label=f'No fear, cut={np.round(cut_no_bag)}')\n",
    "#plt.plot(np.arange(cap_min,cap_max,1),temporal_avg(d_rand_bag/np.sum(d_rand_bag))[cap_min:cap_max],label=f'Random, cut={np.round(cut_rand)}')\n",
    "plt.plot(np.arange(cap_min,cap_max,1),temporal_avg(d_neighbour_bag/np.sum(d_neighbour_bag))[cap_min:cap_max],label=f'Neighbour, cut={np.round(cut_neighbour_bag)}')\n",
    "plt.plot(np.arange(cap_min,cap_max,1),temporal_avg(d_global_bag/np.sum(d_global_bag))[cap_min:cap_max],label=f'Global, cut={np.round(cut_global_bag)}')\n",
    "plt.legend()\n",
    "plt.title('Dead normalized (BAG)')\n",
    "plt.xlabel('time')\n",
    "plt.ylabel('incidence/attack rate')\n",
    "#plt.yscale('log')\n",
    "plt.show()"
   ]
  },
  {
   "cell_type": "code",
   "execution_count": null,
   "id": "5d6ccf1d-69b0-4431-9a9c-b4d40f48a5e3",
   "metadata": {},
   "outputs": [],
   "source": [
    "plt.figure(figsize=(6,2.75))\n",
    "cap_max = 190\n",
    "cap_min = 10\n",
    "plt.plot(np.arange(cap_min,cap_max,1),temporal_avg(d_no_bag)[cap_min:cap_max],label=f'No fear, cut={np.round(cut_no_bag)}')\n",
    "#plt.plot(np.arange(cap_min,cap_max,1),temporal_avg(d_rand_bag)[cap_min:cap_max],label=f'Random, cut={np.round(cut_rand)}')\n",
    "plt.plot(np.arange(cap_min,cap_max,1),temporal_avg(d_neighbour_bag)[cap_min:cap_max],label=f'Neighbour, cut={np.round(cut_neighbour_bag)}')\n",
    "plt.plot(np.arange(cap_min,cap_max,1),temporal_avg(d_global_bag)[cap_min:cap_max],label=f'Global, cut={np.round(cut_global_bag)}')\n",
    "plt.legend()\n",
    "plt.title('Dead (BAG)')\n",
    "plt.xlabel('time')\n",
    "plt.ylabel('incidence')\n",
    "#plt.yscale('log')\n",
    "plt.show()"
   ]
  },
  {
   "cell_type": "markdown",
   "id": "6219b6c9-8d91-4014-bd7a-0a6bc469bfbe",
   "metadata": {},
   "source": [
    "#### SIRD 2"
   ]
  },
  {
   "cell_type": "markdown",
   "id": "970a8de0-74d0-4af8-83e1-cbcfe1847334",
   "metadata": {},
   "source": [
    "#### -ERG"
   ]
  },
  {
   "cell_type": "code",
   "execution_count": null,
   "id": "db7dd39c-3c4e-4c7e-a321-f942ab71e470",
   "metadata": {},
   "outputs": [],
   "source": [
    "\n",
    "#i_no_2, d_no_2, cut_no_2 = net_1000_ERG.plot_incidence_SIR_D(model='SIR_D2',fear_type='no_fear',beta=beta_ , mu=mu_, fd_min=fd_min_, early_stop=True,stop=stop_, num_avg=num_avg_)\n",
    "#i_rand_2, d_rand_2, cut_rand_2 = net_1000_ERG.plot_incidence_SIR_D(model='SIR_D2',fear_type='random_unif',beta=beta_ , mu=mu_, fd_min=fd_min_, early_stop=True,stop=stop_, num_avg=num_avg_)\n",
    "#i_neighbour_2, d_neighbour_2, cut_neighbour_2 = net_1000_ERG.plot_incidence_SIR_D(model='SIR_D2',fear_type='neighbor',beta=beta_ , mu=mu_, fd_min=fd_min_, early_stop=True,stop=stop_, num_avg=num_avg_)\n",
    "#i_global_2, d_global_2, cut_global_2 = net_1000_ERG.plot_incidence_SIR_D(model='SIR_D2',fear_type='global',beta=beta_ , mu=mu_, fd_min=fd_min_, early_stop=True,stop=stop_, num_avg=num_avg_)\n"
   ]
  },
  {
   "cell_type": "code",
   "execution_count": null,
   "id": "fc574afd-41aa-4866-89d7-b60d2180a344",
   "metadata": {},
   "outputs": [],
   "source": [
    "plt.figure(figsize=(6,2.75))\n",
    "cap_max = 100\n",
    "cap_min = 5\n",
    "plt.plot(np.arange(cap_min,cap_max,1),(i_no_2/np.sum(i_no_2))[cap_min:cap_max],label=f'No fear, cut={np.round(cut_no)}')\n",
    "#plt.plot(np.arange(cap_min,cap_max,1),(i_rand_2/np.sum(i_rand_2))[cap_min:cap_max],label=f'Random, cut={np.round(cut_rand)}')\n",
    "plt.plot(np.arange(cap_min,cap_max,1),(i_neighbour_2/np.sum(i_neighbour_2))[cap_min:cap_max],label=f'Neighbour, cut={np.round(cut_neighbour)}')\n",
    "plt.plot(np.arange(cap_min,cap_max,1),(i_global_2/np.sum(i_global_2))[cap_min:cap_max],label=f'Global, cut={np.round(cut_global)}')\n",
    "plt.legend()\n",
    "plt.title('Infected normalized (ERG)')\n",
    "plt.xlabel('time')\n",
    "plt.ylabel('incidence/attack rate')\n",
    "plt.show()"
   ]
  },
  {
   "cell_type": "code",
   "execution_count": null,
   "id": "c6a8bc17-906f-4a99-905c-58a3074384ba",
   "metadata": {},
   "outputs": [],
   "source": [
    "plt.figure(figsize=(6,2.75))\n",
    "cap_max = 100\n",
    "cap_min = 5\n",
    "plt.plot(np.arange(cap_min,cap_max,1),(i_no_2)[cap_min:cap_max],label=f'No fear, cut={np.round(cut_no)}')\n",
    "#plt.plot(np.arange(cap_min,cap_max,1),(i_rand_2)[cap_min:cap_max],label=f'Random, cut={np.round(cut_rand)}')\n",
    "plt.plot(np.arange(cap_min,cap_max,1),(i_neighbour_2)[cap_min:cap_max],label=f'Neighbour, cut={np.round(cut_neighbour)}')\n",
    "plt.plot(np.arange(cap_min,cap_max,1),(i_global_2)[cap_min:cap_max],label=f'Global, cut={np.round(cut_global)}')\n",
    "plt.legend()\n",
    "plt.title('Infected (ERG)')\n",
    "plt.xlabel('time')\n",
    "plt.ylabel('incidence/attack rate')\n",
    "plt.show()"
   ]
  },
  {
   "cell_type": "code",
   "execution_count": null,
   "id": "1a0c72c1-b3f0-4a58-907d-46778ca7df76",
   "metadata": {},
   "outputs": [],
   "source": [
    "plt.figure(figsize=(6,2.75))\n",
    "cap_max = 190\n",
    "cap_min = 10\n",
    "plt.plot(np.arange(cap_min,cap_max,1),temporal_avg(d_no_2/np.sum(d_no_2))[cap_min:cap_max],label=f'No fear, cut={np.round(cut_no)}')\n",
    "#plt.plot(np.arange(cap_min,cap_max,1),temporal_avg(d_rand_2/np.sum(d_rand_2))[cap_min:cap_max],label=f'Random, cut={np.round(cut_rand)}')\n",
    "plt.plot(np.arange(cap_min,cap_max,1),temporal_avg(d_neighbour_2/np.sum(d_neighbour_2))[cap_min:cap_max],label=f'Neighbour, cut={np.round(cut_neighbour)}')\n",
    "plt.plot(np.arange(cap_min,cap_max,1),temporal_avg(d_global_2/np.sum(d_global_2))[cap_min:cap_max],label=f'Global, cut={np.round(cut_global)}')\n",
    "plt.legend()\n",
    "plt.title('Dead normalized (ERG)')\n",
    "plt.xlabel('time')\n",
    "plt.ylabel('incidence')\n",
    "#plt.yscale('log')\n",
    "plt.show()"
   ]
  },
  {
   "cell_type": "code",
   "execution_count": null,
   "id": "01e92fac-39fb-406c-a069-02f1fd54e057",
   "metadata": {},
   "outputs": [],
   "source": [
    "plt.figure(figsize=(6,2.75))\n",
    "cap_max = 190\n",
    "cap_min = 10\n",
    "plt.plot(np.arange(cap_min,cap_max,1),temporal_avg(d_no_2)[cap_min:cap_max],label=f'No fear, cut={np.round(cut_no)}')\n",
    "#plt.plot(np.arange(cap_min,cap_max,1),temporal_avg(d_rand_2)[cap_min:cap_max],label=f'Random, cut={np.round(cut_rand)}')\n",
    "plt.plot(np.arange(cap_min,cap_max,1),temporal_avg(d_neighbour_2)[cap_min:cap_max],label=f'Neighbour, cut={np.round(cut_neighbour)}')\n",
    "plt.plot(np.arange(cap_min,cap_max,1),temporal_avg(d_global_2)[cap_min:cap_max],label=f'Global, cut={np.round(cut_global)}')\n",
    "plt.legend()\n",
    "plt.title('Dead (ERG)')\n",
    "plt.xlabel('time')\n",
    "plt.ylabel('incidence')\n",
    "plt.show()"
   ]
  },
  {
   "cell_type": "markdown",
   "id": "c646436d-f6ae-4704-8ebb-6dffc061c9b7",
   "metadata": {},
   "source": [
    "#### -BAG"
   ]
  },
  {
   "cell_type": "code",
   "execution_count": null,
   "id": "fd2e84d0-bb02-4294-975a-a5793dc2b1dc",
   "metadata": {},
   "outputs": [],
   "source": [
    "\n",
    "#i_no_2_bag, d_no_2_bag, cut_no_2_bag = net_1000_BAG.plot_incidence_SIR_D(model='SIR_D2',fear_type='no_fear',beta=beta_ , mu=mu_, fd_min=fd_min_, early_stop=True,stop=stop_, num_avg=num_avg_)\n",
    "#i_rand_2_bag, d_rand_2_bag, cut_rand_2_bag = net_1000_BAG.plot_incidence_SIR_D(model='SIR_D2',fear_type='random_unif',beta=beta_ , mu=mu_, fd_min=fd_min_, early_stop=True,stop=stop_, num_avg=num_avg_)\n",
    "#i_neighbour_2_bag, d_neighbour_2_bag, cut_neighbour_2 = net_1000_BAG.plot_incidence_SIR_D(model='SIR_D2',fear_type='neighbor',beta=beta_ , mu=mu_, fd_min=fd_min_, early_stop=True,stop=stop_, num_avg=num_avg_)\n",
    "#i_global_2_bag, d_global_2_bag, cut_global_2_bag = net_1000_BAG.plot_incidence_SIR_D(model='SIR_D2',fear_type='global',beta=beta_ , mu=mu_, fd_min=fd_min_, early_stop=True,stop=stop_, num_avg=num_avg_)\n"
   ]
  },
  {
   "cell_type": "code",
   "execution_count": null,
   "id": "4da2ebe5-7785-4040-b514-4bfa87043adf",
   "metadata": {},
   "outputs": [],
   "source": [
    "plt.figure(figsize=(6,2.75))\n",
    "cap_max = 50\n",
    "cap_min = 5\n",
    "plt.plot(np.arange(cap_min,cap_max,1),(i_no_2_bag/np.sum(i_no_2_bag))[cap_min:cap_max],label=f'No fear, cut={np.round(cut_no_bag)}')\n",
    "#plt.plot(np.arange(cap_min,cap_max,1),(i_rand_2_bag/np.sum(i_rand_2_bag))[cap_min:cap_max],label=f'Random, cut={np.round(cut_rand)}')\n",
    "plt.plot(np.arange(cap_min,cap_max,1),(i_neighbour_2_bag/np.sum(i_neighbour_2_bag))[cap_min:cap_max],label=f'Neighbour, cut={np.round(cut_neighbour_bag)}')\n",
    "plt.plot(np.arange(cap_min,cap_max,1),(i_global_2_bag/np.sum(i_global_2_bag))[cap_min:cap_max],label=f'Global, cut={np.round(cut_global_bag)}')\n",
    "plt.legend()\n",
    "plt.title('Infected normalized (ERG)')\n",
    "plt.xlabel('time')\n",
    "plt.ylabel('incidence/attack rate')\n",
    "plt.show()"
   ]
  },
  {
   "cell_type": "code",
   "execution_count": null,
   "id": "1d7fba0f-fb17-461f-ac24-00b57cf786a9",
   "metadata": {},
   "outputs": [],
   "source": [
    "plt.figure(figsize=(6,2.75))\n",
    "cap_max = 50\n",
    "cap_min = 5\n",
    "plt.plot(np.arange(cap_min,cap_max,1),(i_no_2_bag)[cap_min:cap_max],label=f'No fear, cut={np.round(cut_no_bag)}')\n",
    "#plt.plot(np.arange(cap_min,cap_max,1),(i_rand_2_bag)[cap_min:cap_max],label=f'Random, cut={np.round(cut_rand)}')\n",
    "plt.plot(np.arange(cap_min,cap_max,1),(i_neighbour_2_bag)[cap_min:cap_max],label=f'Neighbour, cut={np.round(cut_neighbour_bag)}')\n",
    "plt.plot(np.arange(cap_min,cap_max,1),(i_global_2_bag)[cap_min:cap_max],label=f'Global, cut={np.round(cut_global_bag)}')\n",
    "plt.legend()\n",
    "plt.title('Infected (ERG)')\n",
    "plt.xlabel('time')\n",
    "plt.ylabel('incidence')\n",
    "plt.show()"
   ]
  },
  {
   "cell_type": "code",
   "execution_count": null,
   "id": "6e3ae77f-7807-4670-9f5a-f11aee069381",
   "metadata": {},
   "outputs": [],
   "source": [
    "plt.figure(figsize=(6,2.75))\n",
    "cap_max = 190\n",
    "cap_min = 10\n",
    "plt.plot(np.arange(cap_min,cap_max,1),temporal_avg(d_no_2_bag/np.sum(d_no_2_bag))[cap_min:cap_max],label=f'No fear, cut={np.round(cut_no_bag)}')\n",
    "#plt.plot(np.arange(cap_min,cap_max,1),temporal_avg(d_rand_2_bag/np.sum(d_rand_2_bag))[cap_min:cap_max],label=f'Random, cut={np.round(cut_rand)}')\n",
    "plt.plot(np.arange(cap_min,cap_max,1),temporal_avg(d_neighbour_2_bag/np.sum(d_neighbour_2_bag))[cap_min:cap_max],label=f'Neighbour, cut={np.round(cut_neighbour_bag)}')\n",
    "plt.plot(np.arange(cap_min,cap_max,1),temporal_avg(d_global_2_bag/np.sum(d_global_2_bag))[cap_min:cap_max],label=f'Global, cut={np.round(cut_global_bag)}')\n",
    "plt.legend()\n",
    "plt.title('Dead normalized (ERG)')\n",
    "plt.xlabel('time')\n",
    "plt.ylabel('incidence/attack rate')\n",
    "#plt.yscale('log')\n",
    "plt.show()"
   ]
  },
  {
   "cell_type": "code",
   "execution_count": null,
   "id": "ac81de74-f680-4df5-9e07-c4265210dfa0",
   "metadata": {},
   "outputs": [],
   "source": [
    "plt.figure(figsize=(6,2.75))\n",
    "cap_max = 190\n",
    "cap_min = 10\n",
    "plt.plot(np.arange(cap_min,cap_max,1),temporal_avg(d_no_2_bag)[cap_min:cap_max],label=f'No fear, cut={np.round(cut_no_bag)}')\n",
    "#plt.plot(np.arange(cap_min,cap_max,1),temporal_avg(d_rand_2_bag)[cap_min:cap_max],label=f'Random, cut={np.round(cut_rand)}')\n",
    "plt.plot(np.arange(cap_min,cap_max,1),temporal_avg(d_neighbour_2_bag)[cap_min:cap_max],label=f'Neighbour, cut={np.round(cut_neighbour_bag)}')\n",
    "plt.plot(np.arange(cap_min,cap_max,1),temporal_avg(d_global_2_bag)[cap_min:cap_max],label=f'Global, cut={np.round(cut_global_bag)}')\n",
    "plt.legend()\n",
    "plt.title('Dead (ERG)')\n",
    "plt.xlabel('time')\n",
    "plt.ylabel('incidence')\n",
    "plt.show()"
   ]
  },
  {
   "cell_type": "code",
   "execution_count": null,
   "id": "56ff8541-9d30-49cc-a951-8c4191eee738",
   "metadata": {},
   "outputs": [],
   "source": []
  },
  {
   "cell_type": "code",
   "execution_count": null,
   "id": "8742a954",
   "metadata": {},
   "outputs": [],
   "source": []
  }
 ],
 "metadata": {
  "kernelspec": {
   "display_name": "Python 3 (ipykernel)",
   "language": "python",
   "name": "python3"
  },
  "language_info": {
   "codemirror_mode": {
    "name": "ipython",
    "version": 3
   },
   "file_extension": ".py",
   "mimetype": "text/x-python",
   "name": "python",
   "nbconvert_exporter": "python",
   "pygments_lexer": "ipython3",
   "version": "3.9.16"
  }
 },
 "nbformat": 4,
 "nbformat_minor": 5
}
